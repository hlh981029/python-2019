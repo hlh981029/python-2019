{
 "cells": [
  {
   "cell_type": "code",
   "execution_count": 3,
   "metadata": {},
   "outputs": [
    {
     "name": "stdout",
     "output_type": "stream",
     "text": [
      "min value is 2\n"
     ]
    }
   ],
   "source": [
    "'''\n",
    "定义一个函数min_val(x, y)\n",
    "输入x, y\n",
    "输出最小值\n",
    "\n",
    "example\n",
    "min_val(1, 2)\n",
    "min value is 1\n",
    "'''\n",
    "\n",
    "def min_val(x, y):\n",
    "    if x > y:\n",
    "        print('min value is {}'.format(y))\n",
    "    elif y > x:\n",
    "        print('min value is {}'.format(x))\n",
    "    else:\n",
    "        print('min value is {}'.format(x))\n",
    "\n",
    "min_val(10, 2)"
   ]
  },
  {
   "cell_type": "markdown",
   "metadata": {},
   "source": [
    "$$C_M^N =\\frac{M!}{N!(M-N)!} $$"
   ]
  },
  {
   "cell_type": "code",
   "execution_count": 6,
   "metadata": {},
   "outputs": [
    {
     "name": "stdout",
     "output_type": "stream",
     "text": [
      "5\n",
      "2\n",
      "10\n"
     ]
    }
   ],
   "source": [
    "\"\"\"\n",
    "输入M和N计算C(M,N)\n",
    "\"\"\"\n",
    "\n",
    "def jiecheng(x):\n",
    "    a = 1\n",
    "    for i in range(1, x+1):\n",
    "        a *= i\n",
    "    return a\n",
    "\n",
    "M = int(input())\n",
    "N = int(input())\n",
    "print(jiecheng(M) // jiecheng(N) // jiecheng(M - N))"
   ]
  },
  {
   "cell_type": "code",
   "execution_count": 7,
   "metadata": {},
   "outputs": [
    {
     "name": "stdout",
     "output_type": "stream",
     "text": [
      "x: 10\n",
      "y: 20\n",
      "10\n",
      "20\n"
     ]
    }
   ],
   "source": [
    "# 实现计算求最大公约数和最小公倍数的函数。\n",
    "# gcd(x, y): 最大公因数\n",
    "# lcm(x, y): 最小公倍数\n",
    "# \n",
    "# if x < y:\n",
    "#     m = x\n",
    "# else:\n",
    "#     m = y\n",
    "# for i in range(1,m+1):\n",
    "#     if x % i == 0 and y % i == 0:\n",
    "#         t = i\n",
    "# print(x * y // t)\n",
    "\n",
    "\n",
    "def gcd(x, y):\n",
    "    if x < y:\n",
    "        m = x\n",
    "    else:\n",
    "        m = y\n",
    "    for i in range(1, m+1):\n",
    "        if x % i == 0 and y % i ==0:\n",
    "            t = i\n",
    "    return t\n",
    "\n",
    "def lcm(x, y):\n",
    "    k = x * y // gcd(x, y)\n",
    "    return k\n",
    "\n",
    "\n",
    "x = int(input('x: '))\n",
    "y = int(input('y: '))\n",
    "print(gcd(x, y))\n",
    "print(lcm(x, y))\n"
   ]
  },
  {
   "cell_type": "code",
   "execution_count": 9,
   "metadata": {},
   "outputs": [
    {
     "data": {
      "text/plain": [
       "True"
      ]
     },
     "execution_count": 9,
     "metadata": {},
     "output_type": "execute_result"
    }
   ],
   "source": [
    "# 实现判断一个数是不是回文数的函数。\n",
    "\n",
    "# a = int(a)\n",
    "# t = a\n",
    "# b = 0\n",
    "# while t > 0:\n",
    "#     b *= 10\n",
    "#     b += t % 10\n",
    "#     t //= 10\n",
    "# print (b == a)\n",
    "\n",
    "def is_palindrome(a):\n",
    "    t = a\n",
    "    b = 0\n",
    "    while t > 0:\n",
    "        b *= 10\n",
    "        b += t % 10\n",
    "        t //= 10\n",
    "    return b == a\n",
    "\n",
    "is_huiwenshu(101)"
   ]
  },
  {
   "cell_type": "code",
   "execution_count": 11,
   "metadata": {},
   "outputs": [
    {
     "data": {
      "text/plain": [
       "True"
      ]
     },
     "execution_count": 11,
     "metadata": {},
     "output_type": "execute_result"
    }
   ],
   "source": [
    "# 实现判断一个数是不是素数的函数。\n",
    "\n",
    "def is_prime(t):\n",
    "    if t == 1:\n",
    "        return False\n",
    "    else:\n",
    "        for i in range(2, t):\n",
    "            if t % i == 0:\n",
    "                return False\n",
    "        else:\n",
    "            return True\n",
    "is_prime(13)"
   ]
  },
  {
   "cell_type": "code",
   "execution_count": 15,
   "metadata": {},
   "outputs": [
    {
     "name": "stdout",
     "output_type": "stream",
     "text": [
      "4\n",
      "False\n"
     ]
    }
   ],
   "source": [
    "# 写一个程序判断输入的正整数是不是回文素数。\n",
    "\n",
    "def is_palindrome(a):\n",
    "    t = a\n",
    "    b = 0\n",
    "    while t > 0:\n",
    "        b *= 10\n",
    "        b += t % 10\n",
    "        t //= 10\n",
    "    return b == a\n",
    "\n",
    "def is_prime(t):\n",
    "    if t == 1:\n",
    "        return False\n",
    "    else:\n",
    "        for i in range(2, t):\n",
    "            if t % i == 0:\n",
    "                return False\n",
    "        else:\n",
    "            return True\n",
    "\n",
    "        \n",
    "x = int(input())\n",
    "print(is_palindrome(x) and is_prime(x))"
   ]
  },
  {
   "cell_type": "code",
   "execution_count": null,
   "metadata": {},
   "outputs": [],
   "source": []
  },
  {
   "cell_type": "code",
   "execution_count": 21,
   "metadata": {},
   "outputs": [
    {
     "data": {
      "text/plain": [
       "4.0"
      ]
     },
     "execution_count": 21,
     "metadata": {},
     "output_type": "execute_result"
    }
   ],
   "source": [
    "from math import fabs\n",
    "import random\n",
    "\n",
    "fabs(-10)\n",
    "sqrt(16)\n",
    "# random.random()\n",
    "\n"
   ]
  },
  {
   "cell_type": "code",
   "execution_count": null,
   "metadata": {},
   "outputs": [],
   "source": [
    "from random import randint\n",
    "\n",
    "\n",
    "def roll_dice(n=2):\n",
    "    \"\"\"\n",
    "    摇色子\n",
    "    \n",
    "    :param n: 色子的个数\n",
    "    :return: n颗色子点数之和\n",
    "    \"\"\"\n",
    "    total = 0\n",
    "    for _ in range(n):\n",
    "        total += randint(1, 6)\n",
    "    return total\n",
    "\n",
    "\n",
    "def add(a=0, b=0, c=0):\n",
    "    return a + b + c\n",
    "\n",
    "\n",
    "# 如果没有指定参数那么使用默认值摇两颗色子\n",
    "print(roll_dice())\n",
    "# 摇三颗色子\n",
    "print(roll_dice(3))\n",
    "print(add())\n",
    "print(add(1))\n",
    "print(add(1, 2))\n",
    "print(add(1, 2, 3))\n",
    "# 传递参数时可以不按照设定的顺序进行传递\n",
    "print(add(c=50, a=100, b=200))"
   ]
  },
  {
   "cell_type": "code",
   "execution_count": 22,
   "metadata": {},
   "outputs": [
    {
     "name": "stdout",
     "output_type": "stream",
     "text": [
      "55\n"
     ]
    }
   ],
   "source": [
    "# 函数的递归调用\n",
    "# \n",
    "# sum(x) = 1            , x == 1\n",
    "# sum(x) = x + sum(x-1) , x != 1\n",
    "# \n",
    "\n",
    "\n",
    "def sum(x):\n",
    "    if x == 1:\n",
    "        return 1\n",
    "    else:\n",
    "        return x + sum(x - 1)\n",
    "\n",
    "print(sum(10))"
   ]
  },
  {
   "cell_type": "code",
   "execution_count": 23,
   "metadata": {},
   "outputs": [
    {
     "name": "stdout",
     "output_type": "stream",
     "text": [
      "120\n"
     ]
    }
   ],
   "source": [
    "def factorial(x):\n",
    "    if x == 1:\n",
    "        return 1\n",
    "    else:\n",
    "        return x * factorial(x - 1)\n",
    "\n",
    "print(factorial(5))"
   ]
  },
  {
   "cell_type": "code",
   "execution_count": null,
   "metadata": {},
   "outputs": [],
   "source": [
    "# 递归实现计算斐波那契数列的第n个数\n"
   ]
  }
 ],
 "metadata": {
  "kernelspec": {
   "display_name": "Python 3",
   "language": "python",
   "name": "python3"
  },
  "language_info": {
   "codemirror_mode": {
    "name": "ipython",
    "version": 3
   },
   "file_extension": ".py",
   "mimetype": "text/x-python",
   "name": "python",
   "nbconvert_exporter": "python",
   "pygments_lexer": "ipython3",
   "version": "3.7.3"
  }
 },
 "nbformat": 4,
 "nbformat_minor": 2
}
