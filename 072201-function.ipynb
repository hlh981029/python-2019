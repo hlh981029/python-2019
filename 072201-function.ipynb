{
 "cells": [
  {
   "cell_type": "code",
   "execution_count": null,
   "metadata": {},
   "outputs": [],
   "source": [
    "print('hello world')\n"
   ]
  },
  {
   "cell_type": "code",
   "execution_count": null,
   "metadata": {},
   "outputs": [],
   "source": [
    "def say_hello():\n",
    "    # block belonging to the function\n",
    "    print('hello world')\n",
    "# End of function\n",
    "\n",
    "say_hello()  # call the function\n",
    "say_hello()  # call the function again"
   ]
  },
  {
   "cell_type": "code",
   "execution_count": null,
   "metadata": {},
   "outputs": [],
   "source": [
    "# Function Parameters\n",
    "\n",
    "def print_max(a, b):\n",
    "    if a > b:\n",
    "        print(a, 'is maximum')\n",
    "    elif a == b:\n",
    "        print(a, 'is equal to', b)\n",
    "    else:\n",
    "        print(b, 'is maximum')\n",
    "\n",
    "# directly pass literal values\n",
    "print_max(3, 4)\n",
    "\n",
    "x = 5\n",
    "y = 7\n",
    "\n",
    "# pass variables as arguments\n",
    "print_max(x, y)"
   ]
  },
  {
   "cell_type": "code",
   "execution_count": null,
   "metadata": {},
   "outputs": [],
   "source": [
    "# Local Variables\n",
    "\n",
    "x = 50\n",
    "\n",
    "\n",
    "def func(x):\n",
    "    print('x is', x)\n",
    "    x = 2\n",
    "    print('Changed local x to', x)\n",
    "\n",
    "\n",
    "func(x)\n",
    "print('x is still', x)"
   ]
  },
  {
   "cell_type": "code",
   "execution_count": null,
   "metadata": {},
   "outputs": [],
   "source": [
    "# `global` Statement\n",
    "\n",
    "x = 50\n",
    "\n",
    "\n",
    "def func():\n",
    "    global x\n",
    "\n",
    "    print('x is', x)\n",
    "    x = 2\n",
    "    print('Changed global x to', x)\n",
    "\n",
    "\n",
    "func()\n",
    "print('Value of x is', x)"
   ]
  },
  {
   "cell_type": "code",
   "execution_count": null,
   "metadata": {
    "scrolled": true
   },
   "outputs": [],
   "source": [
    "def foo():\n",
    "    b = 'hello'\n",
    "\n",
    "    def bar():  # Python中可以在函数内部再定义函数\n",
    "        c = True\n",
    "        print(a)\n",
    "        print(b)\n",
    "        print(c)\n",
    "\n",
    "    bar()\n",
    "    # print(c)  # NameError: name 'c' is not defined\n",
    "\n",
    "if __name__ == '__main__':\n",
    "    a = 100\n",
    "    # print(b)  # NameError: name 'b' is not defined\n",
    "    foo()"
   ]
  },
  {
   "cell_type": "code",
   "execution_count": null,
   "metadata": {},
   "outputs": [],
   "source": [
    "# Default Argument Values\n",
    "\n",
    "def say(message, times=1):\n",
    "    print(message * times)\n",
    "\n",
    "say('Hello')\n",
    "say('World', 5)"
   ]
  },
  {
   "cell_type": "markdown",
   "metadata": {},
   "source": [
    "### 默认参数放在最后\n",
    "- `def func(a, b=5)` is valid\n",
    "- **BUT** `def func(a=5, b)` is not valid."
   ]
  },
  {
   "cell_type": "code",
   "execution_count": null,
   "metadata": {},
   "outputs": [],
   "source": [
    "# Keyword Arguments\n",
    "\n",
    "def func(a, b=5, c=10):\n",
    "    print('a is', a, 'and b is', b, 'and c is', c)\n",
    "\n",
    "func(3, 7)\n",
    "func(25, c=24)\n",
    "func(c=50, a=100)\n",
    "func(10)\n",
    "func(10, 1)\n",
    "func(10, 1, 2)"
   ]
  },
  {
   "cell_type": "code",
   "execution_count": null,
   "metadata": {},
   "outputs": [],
   "source": [
    "# VarArgs parameters\n",
    "\n",
    "def total(a=5, *numbers, **phonebook):\n",
    "    print('a', a)\n",
    "\n",
    "    #iterate through all the items in tuple\n",
    "    for single_item in numbers:\n",
    "        print('single_item', single_item)\n",
    "\n",
    "    #iterate through all the items in dictionary    \n",
    "    for first_part, second_part in phonebook.items():\n",
    "        print(first_part,second_part)\n",
    "\n",
    "total(10,1,2,3,Jack=1123,John=2231,Inge=1560)"
   ]
  },
  {
   "cell_type": "code",
   "execution_count": null,
   "metadata": {},
   "outputs": [],
   "source": [
    "# 在参数名前面的*表示args是一个可变参数\n",
    "# 即在调用add函数时可以传入0个或多个参数\n",
    "def add(*args):\n",
    "    total = 0\n",
    "    for val in args:\n",
    "        total += val\n",
    "    return total\n",
    "\n",
    "\n",
    "print(add())\n",
    "print(add(1))\n",
    "print(add(1, 2))\n",
    "print(add(1, 2, 3))\n",
    "print(add(1, 3, 5, 7, 9))"
   ]
  },
  {
   "cell_type": "code",
   "execution_count": null,
   "metadata": {},
   "outputs": [],
   "source": [
    "# `return` Statement\n",
    "\n",
    "def maximum(x, y):\n",
    "    if x > y:\n",
    "        return x\n",
    "    elif x == y:\n",
    "        return 'The numbers are equal'\n",
    "    else:\n",
    "        return y\n",
    "    \n",
    "a = maximum(10, 2) \n",
    "print(a)\n",
    "# print(maximum(2, 3))"
   ]
  },
  {
   "cell_type": "code",
   "execution_count": null,
   "metadata": {},
   "outputs": [],
   "source": [
    "# `pass` Statement\n",
    "\n",
    "def some_function():\n",
    "    pass"
   ]
  },
  {
   "cell_type": "code",
   "execution_count": null,
   "metadata": {},
   "outputs": [],
   "source": [
    "# Docstring\n",
    "\n",
    "def print_max(x, y):\n",
    "    '''Prints the maximum of two numbers.\n",
    "\n",
    "    The two values must be integers.'''\n",
    "    # convert to integers, if possible\n",
    "    x = int(x)\n",
    "    y = int(y)\n",
    "\n",
    "    if x > y:\n",
    "        print(x, 'is maximum')\n",
    "    else:\n",
    "        print(y, 'is maximum')\n",
    "\n",
    "print_max(3, 5)\n",
    "print(print_max.__doc__)"
   ]
  },
  {
   "cell_type": "markdown",
   "metadata": {},
   "source": [
    "## exercise"
   ]
  },
  {
   "cell_type": "markdown",
   "metadata": {},
   "source": [
    "$$C_M^N =\\frac{M!}{N!(M-N)!} $$"
   ]
  },
  {
   "cell_type": "code",
   "execution_count": null,
   "metadata": {},
   "outputs": [],
   "source": [
    "\"\"\"\n",
    "输入M和N计算C(M,N)\n",
    "\"\"\"\n",
    "\n",
    "m = int(input('m = '))\n",
    "n = int(input('n = '))\n",
    "fm = 1\n",
    "for num in range(1, m + 1):\n",
    "    fm *= num\n",
    "fn = 1\n",
    "for num in range(1, n + 1):\n",
    "    fn *= num\n",
    "fmn = 1\n",
    "for num in range(1, m - n + 1):\n",
    "    fmn *= num\n",
    "print(fm // fn // fmn)"
   ]
  },
  {
   "cell_type": "code",
   "execution_count": null,
   "metadata": {},
   "outputs": [],
   "source": [
    "def factorial(num):\n",
    "    \"\"\"\n",
    "    求阶乘\n",
    "    \n",
    "    :param num: 非负整数\n",
    "    :return: num的阶乘\n",
    "    \"\"\"\n",
    "    result = 1\n",
    "    for n in range(1, num + 1):\n",
    "        result *= n\n",
    "    return result\n",
    "\n",
    "\n",
    "m = int(input('m = '))\n",
    "n = int(input('n = '))\n",
    "# 当需要计算阶乘的时候不用再写循环求阶乘而是直接调用已经定义好的函数\n",
    "print(factorial(m) // factorial(n) // factorial(m - n))"
   ]
  },
  {
   "cell_type": "code",
   "execution_count": null,
   "metadata": {},
   "outputs": [],
   "source": [
    "from random import randint\n",
    "\n",
    "\n",
    "def roll_dice(n=2):\n",
    "    \"\"\"\n",
    "    摇色子\n",
    "    \n",
    "    :param n: 色子的个数\n",
    "    :return: n颗色子点数之和\n",
    "    \"\"\"\n",
    "    total = 0\n",
    "    for _ in range(n):\n",
    "        total += randint(1, 6)\n",
    "    return total\n",
    "\n",
    "\n",
    "def add(a=0, b=0, c=0):\n",
    "    return a + b + c\n",
    "\n",
    "\n",
    "# 如果没有指定参数那么使用默认值摇两颗色子\n",
    "print(roll_dice())\n",
    "# 摇三颗色子\n",
    "print(roll_dice(3))\n",
    "print(add())\n",
    "print(add(1))\n",
    "print(add(1, 2))\n",
    "print(add(1, 2, 3))\n",
    "# 传递参数时可以不按照设定的顺序进行传递\n",
    "print(add(c=50, a=100, b=200))"
   ]
  },
  {
   "cell_type": "code",
   "execution_count": null,
   "metadata": {},
   "outputs": [],
   "source": [
    "# 实现计算求最大公约数和最小公倍数的函数。\n",
    "\n",
    "def gcd(x, y):\n",
    "    (x, y) = (y, x) if x > y else (x, y)\n",
    "    for factor in range(x, 0, -1):\n",
    "        if x % factor == 0 and y % factor == 0:\n",
    "            return factor\n",
    "\n",
    "\n",
    "def lcm(x, y):\n",
    "    return x * y // gcd(x, y)"
   ]
  },
  {
   "cell_type": "code",
   "execution_count": null,
   "metadata": {},
   "outputs": [],
   "source": [
    "# 实现判断一个数是不是回文数的函数。\n",
    "\n",
    "def is_palindrome(num):\n",
    "    temp = num\n",
    "    total = 0\n",
    "    while temp > 0:\n",
    "        total = total * 10 + temp % 10\n",
    "        temp //= 10\n",
    "    return total == num"
   ]
  },
  {
   "cell_type": "code",
   "execution_count": null,
   "metadata": {},
   "outputs": [],
   "source": [
    "# 实现判断一个数是不是素数的函数。\n",
    "\n",
    "def is_prime(num):\n",
    "    for factor in range(2, num):\n",
    "        if num % factor == 0:\n",
    "            return False\n",
    "    return True if num != 1 else False"
   ]
  },
  {
   "cell_type": "code",
   "execution_count": null,
   "metadata": {},
   "outputs": [],
   "source": [
    "# 写一个程序判断输入的正整数是不是回文素数。\n",
    "\n",
    "if __name__ == '__main__':\n",
    "    num = int(input('请输入正整数: '))\n",
    "    if is_palindrome(num) and is_prime(num):\n",
    "        print('%d是回文素数' % num)"
   ]
  }
 ],
 "metadata": {
  "kernelspec": {
   "display_name": "Python 3",
   "language": "python",
   "name": "python3"
  },
  "language_info": {
   "codemirror_mode": {
    "name": "ipython",
    "version": 3
   },
   "file_extension": ".py",
   "mimetype": "text/x-python",
   "name": "python",
   "nbconvert_exporter": "python",
   "pygments_lexer": "ipython3",
   "version": "3.7.3"
  }
 },
 "nbformat": 4,
 "nbformat_minor": 2
}
