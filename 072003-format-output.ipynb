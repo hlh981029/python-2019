{
 "cells": [
  {
   "cell_type": "code",
   "execution_count": null,
   "metadata": {},
   "outputs": [],
   "source": [
    "# Frank is 20 years old\n",
    "\n",
    "age = 20\n",
    "name = 'Frank'\n",
    "# print(name + ' was ' + str(age) + ' years old')\n",
    "# print('%s was %d years old' % (name, age))\n",
    "# print('{} was {} years old'.format(name, age))\n",
    "# print('{name} was {age} years old'.format(name=name, age=age))\n",
    "print(f'{name} was {age} years old')"
   ]
  },
  {
   "cell_type": "markdown",
   "metadata": {},
   "source": [
    "- 占位符\n",
    "    - `%d` 整数\n",
    "    - `%f` 浮点数\n",
    "    - `%s` 字符串\n",
    "    - `%x` 16进制"
   ]
  },
  {
   "cell_type": "code",
   "execution_count": null,
   "metadata": {},
   "outputs": [],
   "source": [
    "print('%.2f' % (100.123456))\n",
    "print('%.3f' % (100.123456))\n",
    "print('%+.3f' % (100.123456))\n",
    "print('%-.3f' % (100.123456))\n",
    "print('%+.3f' % (-100.123456))\n",
    "print('%-.3f' % (-100.123456))\n",
    "print('start%10.3fend' % (100.123456))\n",
    "print('start%-10.3fend' % (100.123456))"
   ]
  },
  {
   "cell_type": "code",
   "execution_count": null,
   "metadata": {},
   "outputs": [],
   "source": []
  },
  {
   "cell_type": "code",
   "execution_count": null,
   "metadata": {},
   "outputs": [],
   "source": []
  },
  {
   "cell_type": "code",
   "execution_count": null,
   "metadata": {},
   "outputs": [],
   "source": [
    "\"{} {}\".format(\"hello\", \"world\")    # 不设置指定位置，按默认顺序"
   ]
  },
  {
   "cell_type": "code",
   "execution_count": null,
   "metadata": {},
   "outputs": [],
   "source": [
    "\"{0} {1}\".format(\"hello\", \"world\")  # 设置指定位置"
   ]
  },
  {
   "cell_type": "code",
   "execution_count": null,
   "metadata": {},
   "outputs": [],
   "source": [
    "\"{1} {0} {1}\".format(\"hello\", \"world\")  # 设置指定位置"
   ]
  },
  {
   "cell_type": "code",
   "execution_count": null,
   "metadata": {},
   "outputs": [],
   "source": [
    "print(\"网站名：{name}, 地址 {url}\".format(name=\"baidu\", url=\"www.baidu.com\"))\n",
    " \n",
    "# 通过字典设置参数\n",
    "site = {\"name\": \"baidu\", \"url\": \"www.baidu.com\"}\n",
    "print(\"网站名：{name}, 地址 {url}\".format(**site))\n",
    " \n",
    "# 通过列表索引设置参数\n",
    "my_list = ['baidu', 'www.baidu.com']\n",
    "print(\"网站名：{0[0]}, 地址 {0[1]}\".format(my_list))  # \"0\" 是必须的"
   ]
  },
  {
   "cell_type": "code",
   "execution_count": 33,
   "metadata": {},
   "outputs": [
    {
     "name": "stdout",
     "output_type": "stream",
     "text": [
      "3.14\n",
      "+3.14\n",
      "|      3.14|\n",
      "|      3.14|\n",
      "|3.14      |\n",
      "|   3.14   |\n",
      "|0000003.14|\n",
      "|3.14******|\n"
     ]
    }
   ],
   "source": [
    "print(\"{:.2f}\".format(3.1415926));\n",
    "print(\"{:+.2f}\".format(3.1415926));\n",
    "print(\"|{:10.2f}|\".format(3.1415926));\n",
    "print(\"|{:>10.2f}|\".format(3.1415926));\n",
    "print(\"|{:<10.2f}|\".format(3.1415926));\n",
    "print(\"|{:^10.2f}|\".format(3.1415926));\n",
    "print(\"|{:0>10.2f}|\".format(3.1415926));\n",
    "print(\"|{:*<10.2f}|\".format(3.1415926));"
   ]
  },
  {
   "cell_type": "markdown",
   "metadata": {},
   "source": [
    "- `^`, `<`, `>` 分别是居中、左对齐、右对齐，后面带宽度\n",
    "- `:` 号后面带填充的字符，只能是一个字符，不指定则默认是用空格填充\n",
    "- `+` 表示在正数前显示 +，负数前显示 -\n",
    "- ` `（空格）表示在正数前加空格"
   ]
  },
  {
   "cell_type": "markdown",
   "metadata": {},
   "source": [
    "- examples\n",
    "\n",
    "数字            格式         输出            描述\n",
    "3.1415926      {:.2f}      '3.14'          保留小数点后两位\n",
    "3.1415926      {:+.2f}     '+3.14'         带符号保留小数点后两位\n",
    "-1             {:+.2f}     '-1.00'         带符号保留小数点后两位\n",
    "2.71828        {:.0f}      '3'             不带小数\n",
    "5              {:0>2d}     '05'            数字补零 (填充左边, 宽度为2)\n",
    "5              {:x<4d}     '5xxx'          数字补x (填充右边, 宽度为4)\n",
    "10             {:x<4d}     '10xx'          数字补x (填充右边, 宽度为4)\n",
    "1000000        {:,}        '1,000,000'     以逗号分隔的数字格式\n",
    "0.25           {:.2%}      '25.00%'        百分比格式\n",
    "1000000000     {:.2e}      '1.00e+09'      指数记法\n",
    "13             {:10d}      '        13'    右对齐 (默认, 宽度为10)\n",
    "13             {:<10d}     '13        '    左对齐 (宽度为10)\n",
    "13             {:^10d}     '    13    '    中间对齐 (宽度为10)"
   ]
  },
  {
   "cell_type": "markdown",
   "metadata": {},
   "source": [
    "- `b`、`d`、`o`、`x` 分别是二进制、十进制、八进制、十六进制"
   ]
  },
  {
   "cell_type": "code",
   "execution_count": 34,
   "metadata": {
    "scrolled": true
   },
   "outputs": [
    {
     "name": "stdout",
     "output_type": "stream",
     "text": [
      "1011\n",
      "11\n",
      "13\n",
      "b\n",
      "0xb\n",
      "0XB\n"
     ]
    }
   ],
   "source": [
    "print('{:b}'.format(11))\n",
    "print('{:d}'.format(11))\n",
    "print('{:o}'.format(11))\n",
    "print('{:x}'.format(11))\n",
    "print('{:#x}'.format(11))\n",
    "print('{:#X}'.format(11))"
   ]
  },
  {
   "cell_type": "code",
   "execution_count": 35,
   "metadata": {},
   "outputs": [
    {
     "name": "stdout",
     "output_type": "stream",
     "text": [
      "baidu 对应的位置是 {0}\n"
     ]
    }
   ],
   "source": [
    "print (\"{} 对应的位置是 {{0}}\".format(\"baidu\"))"
   ]
  },
  {
   "cell_type": "code",
   "execution_count": null,
   "metadata": {},
   "outputs": [],
   "source": []
  }
 ],
 "metadata": {
  "kernelspec": {
   "display_name": "Python 3",
   "language": "python",
   "name": "python3"
  },
  "language_info": {
   "codemirror_mode": {
    "name": "ipython",
    "version": 3
   },
   "file_extension": ".py",
   "mimetype": "text/x-python",
   "name": "python",
   "nbconvert_exporter": "python",
   "pygments_lexer": "ipython3",
   "version": "3.7.3"
  }
 },
 "nbformat": 4,
 "nbformat_minor": 2
}
