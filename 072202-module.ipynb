{
 "cells": [
  {
   "cell_type": "code",
   "execution_count": 1,
   "metadata": {},
   "outputs": [
    {
     "name": "stdout",
     "output_type": "stream",
     "text": [
      "The command line arguments are:\n",
      "/anaconda3/lib/python3.7/site-packages/ipykernel_launcher.py\n",
      "-f\n",
      "/Users/hanlinghao/Library/Jupyter/runtime/kernel-91468911-5f98-48d6-8469-6f44f12f5986.json\n",
      "\n",
      "\n",
      "The PYTHONPATH is ['/Users/hanlinghao/PycharmProjects/20190718', '/anaconda3/lib/python37.zip', '/anaconda3/lib/python3.7', '/anaconda3/lib/python3.7/lib-dynload', '', '/anaconda3/lib/python3.7/site-packages', '/anaconda3/lib/python3.7/site-packages/aeosa', '/anaconda3/lib/python3.7/site-packages/IPython/extensions', '/Users/hanlinghao/.ipython'] \n",
      "\n"
     ]
    }
   ],
   "source": [
    "import sys\n",
    "\n",
    "print('The command line arguments are:')\n",
    "for i in sys.argv:\n",
    "    print(i)\n",
    "\n",
    "print('\\n\\nThe PYTHONPATH is', sys.path, '\\n')"
   ]
  },
  {
   "cell_type": "code",
   "execution_count": 2,
   "metadata": {},
   "outputs": [
    {
     "name": "stdout",
     "output_type": "stream",
     "text": [
      "Square root of 16 is 4.0\n"
     ]
    }
   ],
   "source": [
    "from math import sqrt\n",
    "print(\"Square root of 16 is\", sqrt(16))"
   ]
  },
  {
   "cell_type": "code",
   "execution_count": 3,
   "metadata": {},
   "outputs": [
    {
     "name": "stdout",
     "output_type": "stream",
     "text": [
      "This program is being run by itself\n"
     ]
    }
   ],
   "source": [
    "# module_using_name.py\n",
    "\n",
    "if __name__ == '__main__':\n",
    "    print('This program is being run by itself')\n",
    "else:\n",
    "    print('I am being imported from another module')"
   ]
  },
  {
   "cell_type": "markdown",
   "metadata": {},
   "source": [
    "```\n",
    "$ python module_using_name.py\n",
    "This program is being run by itself\n",
    "\n",
    "$ python\n",
    ">>> import module_using_name\n",
    "I am being imported from another module\n",
    ">>>\n",
    "```"
   ]
  },
  {
   "cell_type": "code",
   "execution_count": null,
   "metadata": {},
   "outputs": [],
   "source": [
    "# mymodule.py\n",
    "\n",
    "def say_hi():\n",
    "    print('Hi, this is mymodule speaking.')\n",
    "\n",
    "__version__ = '0.1'"
   ]
  },
  {
   "cell_type": "code",
   "execution_count": null,
   "metadata": {},
   "outputs": [],
   "source": [
    "# mymodule_demo.py\n",
    "\n",
    "import mymodule\n",
    "\n",
    "mymodule.say_hi()\n",
    "print('Version', mymodule.__version__)"
   ]
  },
  {
   "cell_type": "code",
   "execution_count": null,
   "metadata": {},
   "outputs": [],
   "source": [
    "# mymodule_demo2.py\n",
    "\n",
    "from mymodule import say_hi, __version__\n",
    "\n",
    "say_hi()\n",
    "print('Version', __version__)"
   ]
  },
  {
   "cell_type": "code",
   "execution_count": null,
   "metadata": {},
   "outputs": [],
   "source": [
    "from mymodule import *"
   ]
  },
  {
   "cell_type": "code",
   "execution_count": null,
   "metadata": {},
   "outputs": [],
   "source": [
    "# The `dir` function\n",
    "#\n",
    "# The built-in `dir()` function returns the list of names defined by an object.\n",
    "# If the object is a module, this list includes functions, classes and variables, defined inside that module.\n",
    "# This function can accept arguments. If the argument is the name of a module,\n",
    "#\n",
    "# the function returns the list of names from that specified module.\n",
    "# If there is no argument, the function returns the list of names from the current module.\n",
    "\n",
    "import sys\n",
    "\n",
    "# get names of attributes in sys module\n",
    "dir(sys)\n",
    "['__displayhook__', '__doc__',\n",
    "'argv', 'builtin_module_names',\n",
    "'version', 'version_info']\n",
    "# only few entries shown here\n",
    "\n",
    "# get names of attributes for current module\n",
    "dir()\n",
    "['__builtins__', '__doc__',\n",
    "'__name__', '__package__', 'sys']\n",
    "\n",
    "# create a new variable 'a'\n",
    "a = 5\n",
    "\n",
    "dir()\n",
    "['__builtins__', '__doc__', '__name__', '__package__', 'sys', 'a']\n",
    "\n",
    "# delete/remove a name\n",
    "del a\n",
    "\n",
    "dir()\n",
    "['__builtins__', '__doc__', '__name__', '__package__', 'sys']"
   ]
  },
  {
   "cell_type": "code",
   "execution_count": null,
   "metadata": {},
   "outputs": [],
   "source": []
  }
 ],
 "metadata": {
  "kernelspec": {
   "display_name": "Python 3",
   "language": "python",
   "name": "python3"
  },
  "language_info": {
   "codemirror_mode": {
    "name": "ipython",
    "version": 3
   },
   "file_extension": ".py",
   "mimetype": "text/x-python",
   "name": "python",
   "nbconvert_exporter": "python",
   "pygments_lexer": "ipython3",
   "version": "3.7.3"
  }
 },
 "nbformat": 4,
 "nbformat_minor": 2
}
